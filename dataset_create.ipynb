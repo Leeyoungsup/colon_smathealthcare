{
 "cells": [
  {
   "cell_type": "code",
   "execution_count": 55,
   "metadata": {},
   "outputs": [],
   "source": [
    "from PIL import Image,ImageDraw\n",
    "import numpy as np\n",
    "import json\n",
    "import os\n",
    "from glob import glob\n",
    "from sklearn.model_selection import train_test_split\n",
    "import shutil"
   ]
  },
  {
   "cell_type": "code",
   "execution_count": null,
   "metadata": {},
   "outputs": [],
   "source": [
    "img_list=glob('../../data/adenoma/*.jpg')\n",
    "json_list=[i.replace('jpg','json') for i in img_list]\n",
    "\n",
    "def resize_img_label(image, label=(0., 0.,0.,0.), target_size=(512,512)):\n",
    "    w_orig, h_orig = image.size\n",
    "    w_target, h_target = target_size\n",
    "    cx1, cy1,cx2,cy2 = label\n",
    "    image_new = image.resize(target_size)\n",
    "    label_new = cx/w_orig*w_target, cy/h_orig*h_target\n",
    "    return image_new, label_new"
   ]
  },
  {
   "cell_type": "code",
   "execution_count": null,
   "metadata": {},
   "outputs": [],
   "source": [
    "for i in range(len(img_list)):\n",
    "    try:\n",
    "        image=Image.open(img_list[i])\n",
    "        image.resize((512,512))\n",
    "        mask = Image.new('RGB', image.size, (0, 0, 0))\n",
    "        with open(json_list[i], 'r') as f:\n",
    "\n",
    "            json_data = json.load(f)\n",
    "        cx1, cy1, cx2, cy2 = json_data['retinanet'][0]['x1'],json_data['retinanet'][0]['y1'],json_data['retinanet'][0]['x2'],json_data['retinanet'][0]['y2']\n",
    "        draw = ImageDraw.Draw(mask)\n",
    "        draw.rectangle((cx1, cy1, cx2, cy2), width = 3,fill=(255,255,255))\n",
    "        image.save('../../data/dataset/adenoma/all/image/'+os.path.basename(img_list[i]))\n",
    "        mask.save('../../data/dataset/adenoma/all/mask/'+os.path.basename(img_list[i]))\n",
    "    except:\n",
    "        print(img_list[i])\n",
    "        os.remove(img_list[i])\n"
   ]
  },
  {
   "cell_type": "code",
   "execution_count": 44,
   "metadata": {},
   "outputs": [],
   "source": [
    "train_path= '../../data/dataset/adenoma/train/'\n",
    "test_path= '../../data/dataset/adenoma/test/'\n",
    "image_list=glob('../../data/dataset/adenoma/all/image/*.jpg')\n",
    "mask_list=[i.replace('/image','/mask') for i in image_list]"
   ]
  },
  {
   "cell_type": "code",
   "execution_count": 56,
   "metadata": {},
   "outputs": [],
   "source": [
    "x_train, x_test, y_train, y_test =train_test_split(image_list, mask_list,test_size=0.2, random_state=1004,shuffle=True)\n",
    "for i in range(len(x_train)):\n",
    "    shutil.copy(x_train[i],train_path+'image/'+os.path.basename(x_train[i]))\n",
    "    shutil.copy(y_train[i],train_path+'mask/'+os.path.basename(y_train[i]))\n",
    "for i in range(len(x_test)):\n",
    "    shutil.copy(x_test[i],test_path+'image/'+os.path.basename(x_test[i]))\n",
    "    shutil.copy(y_test[i],test_path+'mask/'+os.path.basename(y_test[i]))\n"
   ]
  },
  {
   "cell_type": "code",
   "execution_count": 53,
   "metadata": {},
   "outputs": [
    {
     "data": {
      "text/plain": [
       "'../../data/dataset/adenoma/all/image/27995693_110425_GI_AD_LBGC_0000.jpg'"
      ]
     },
     "execution_count": 53,
     "metadata": {},
     "output_type": "execute_result"
    }
   ],
   "source": []
  }
 ],
 "metadata": {
  "kernelspec": {
   "display_name": "LeeYS",
   "language": "python",
   "name": "python3"
  },
  "language_info": {
   "codemirror_mode": {
    "name": "ipython",
    "version": 3
   },
   "file_extension": ".py",
   "mimetype": "text/x-python",
   "name": "python",
   "nbconvert_exporter": "python",
   "pygments_lexer": "ipython3",
   "version": "3.9.0"
  }
 },
 "nbformat": 4,
 "nbformat_minor": 2
}
