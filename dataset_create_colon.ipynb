{
 "cells": [
  {
   "cell_type": "code",
   "execution_count": 1,
   "metadata": {},
   "outputs": [],
   "source": [
    "from PIL import Image,ImageDraw\n",
    "import numpy as np\n",
    "import json\n",
    "import os\n",
    "from glob import glob\n",
    "from sklearn.model_selection import train_test_split\n",
    "import shutil"
   ]
  },
  {
   "cell_type": "code",
   "execution_count": 6,
   "metadata": {},
   "outputs": [],
   "source": [
    "img_list=glob('../../data/colon/image/abnormal/*.png')\n",
    "json_list=[i.replace('.png','.json') for i in img_list]\n",
    "json_list=[i.replace('/image/abnormal','/label/json/abnormal') for i in json_list]"
   ]
  },
  {
   "cell_type": "code",
   "execution_count": 13,
   "metadata": {},
   "outputs": [],
   "source": [
    "for i in range(len(img_list)):\n",
    "    try:\n",
    "        image=Image.open(img_list[i])\n",
    "        image.resize((512,512))\n",
    "        mask = Image.new('RGB', image.size, (0, 0, 0))\n",
    "        with open(json_list[i], 'r') as f:\n",
    "\n",
    "            json_data = json.load(f)\n",
    "        cx1, cy1, cx2, cy2 = json_data['lesionAnnnot']['annotaion_loc'][0]['x1'],json_data['lesionAnnnot']['annotaion_loc'][0]['y1'],json_data['lesionAnnnot']['annotaion_loc'][0]['x2'],json_data['lesionAnnnot']['annotaion_loc'][0]['y2']\n",
    "        draw = ImageDraw.Draw(mask)\n",
    "        draw.rectangle((cx1, cy1, cx2, cy2), width = 3,fill=(255,255,255))\n",
    "        image.save('../../data/dataset/colon/all/image/'+os.path.basename(img_list[i]))\n",
    "        mask.save('../../data/dataset/colon/all/mask/'+os.path.basename(img_list[i]))\n",
    "    except:\n",
    "        print(img_list[i])\n",
    "        os.remove(img_list[i])\n"
   ]
  },
  {
   "cell_type": "code",
   "execution_count": 14,
   "metadata": {},
   "outputs": [],
   "source": [
    "train_path= '../../data/dataset/colon/train/'\n",
    "test_path= '../../data/dataset/colon/test/'\n",
    "image_list=glob('../../data/dataset/colon/all/image/*.png')\n",
    "mask_list=[i.replace('/image','/mask') for i in image_list]"
   ]
  },
  {
   "cell_type": "code",
   "execution_count": 15,
   "metadata": {},
   "outputs": [],
   "source": [
    "x_train, x_test, y_train, y_test =train_test_split(image_list, mask_list,test_size=0.2, random_state=1004,shuffle=True)\n",
    "for i in range(len(x_train)):\n",
    "    shutil.copy(x_train[i],train_path+'image/'+os.path.basename(x_train[i]))\n",
    "    shutil.copy(y_train[i],train_path+'mask/'+os.path.basename(y_train[i]))\n",
    "for i in range(len(x_test)):\n",
    "    shutil.copy(x_test[i],test_path+'image/'+os.path.basename(x_test[i]))\n",
    "    shutil.copy(y_test[i],test_path+'mask/'+os.path.basename(y_test[i]))\n"
   ]
  }
 ],
 "metadata": {
  "kernelspec": {
   "display_name": "LeeYS",
   "language": "python",
   "name": "python3"
  },
  "language_info": {
   "codemirror_mode": {
    "name": "ipython",
    "version": 3
   },
   "file_extension": ".py",
   "mimetype": "text/x-python",
   "name": "python",
   "nbconvert_exporter": "python",
   "pygments_lexer": "ipython3",
   "version": "3.9.0"
  }
 },
 "nbformat": 4,
 "nbformat_minor": 2
}
